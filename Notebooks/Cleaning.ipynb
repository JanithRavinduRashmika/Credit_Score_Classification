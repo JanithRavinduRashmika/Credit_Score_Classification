{
 "cells": [
  {
   "cell_type": "code",
   "execution_count": 412,
   "metadata": {},
   "outputs": [],
   "source": [
    "import numpy as np\n",
    "import pandas as pd\n",
    "import matplotlib.pyplot as plt"
   ]
  },
  {
   "cell_type": "code",
   "execution_count": 413,
   "metadata": {},
   "outputs": [],
   "source": [
    "df = pd.read_csv(\"../Data/train.csv\", low_memory=False)"
   ]
  },
  {
   "cell_type": "code",
   "execution_count": 414,
   "metadata": {},
   "outputs": [
    {
     "data": {
      "text/html": [
       "<div>\n",
       "<style scoped>\n",
       "    .dataframe tbody tr th:only-of-type {\n",
       "        vertical-align: middle;\n",
       "    }\n",
       "\n",
       "    .dataframe tbody tr th {\n",
       "        vertical-align: top;\n",
       "    }\n",
       "\n",
       "    .dataframe thead th {\n",
       "        text-align: right;\n",
       "    }\n",
       "</style>\n",
       "<table border=\"1\" class=\"dataframe\">\n",
       "  <thead>\n",
       "    <tr style=\"text-align: right;\">\n",
       "      <th></th>\n",
       "      <th>ID</th>\n",
       "      <th>Customer_ID</th>\n",
       "      <th>Month</th>\n",
       "      <th>Name</th>\n",
       "      <th>Age</th>\n",
       "      <th>SSN</th>\n",
       "      <th>Occupation</th>\n",
       "      <th>Annual_Income</th>\n",
       "      <th>Monthly_Inhand_Salary</th>\n",
       "      <th>Num_Bank_Accounts</th>\n",
       "      <th>...</th>\n",
       "      <th>Credit_Mix</th>\n",
       "      <th>Outstanding_Debt</th>\n",
       "      <th>Credit_Utilization_Ratio</th>\n",
       "      <th>Credit_History_Age</th>\n",
       "      <th>Payment_of_Min_Amount</th>\n",
       "      <th>Total_EMI_per_month</th>\n",
       "      <th>Amount_invested_monthly</th>\n",
       "      <th>Payment_Behaviour</th>\n",
       "      <th>Monthly_Balance</th>\n",
       "      <th>Credit_Score</th>\n",
       "    </tr>\n",
       "  </thead>\n",
       "  <tbody>\n",
       "    <tr>\n",
       "      <th>0</th>\n",
       "      <td>0x1602</td>\n",
       "      <td>CUS_0xd40</td>\n",
       "      <td>January</td>\n",
       "      <td>Aaron Maashoh</td>\n",
       "      <td>23</td>\n",
       "      <td>821-00-0265</td>\n",
       "      <td>Scientist</td>\n",
       "      <td>19114.12</td>\n",
       "      <td>1824.843333</td>\n",
       "      <td>3</td>\n",
       "      <td>...</td>\n",
       "      <td>_</td>\n",
       "      <td>809.98</td>\n",
       "      <td>26.822620</td>\n",
       "      <td>22 Years and 1 Months</td>\n",
       "      <td>No</td>\n",
       "      <td>49.574949</td>\n",
       "      <td>80.41529543900253</td>\n",
       "      <td>High_spent_Small_value_payments</td>\n",
       "      <td>312.49408867943663</td>\n",
       "      <td>Good</td>\n",
       "    </tr>\n",
       "    <tr>\n",
       "      <th>1</th>\n",
       "      <td>0x1603</td>\n",
       "      <td>CUS_0xd40</td>\n",
       "      <td>February</td>\n",
       "      <td>Aaron Maashoh</td>\n",
       "      <td>23</td>\n",
       "      <td>821-00-0265</td>\n",
       "      <td>Scientist</td>\n",
       "      <td>19114.12</td>\n",
       "      <td>NaN</td>\n",
       "      <td>3</td>\n",
       "      <td>...</td>\n",
       "      <td>Good</td>\n",
       "      <td>809.98</td>\n",
       "      <td>31.944960</td>\n",
       "      <td>NaN</td>\n",
       "      <td>No</td>\n",
       "      <td>49.574949</td>\n",
       "      <td>118.28022162236736</td>\n",
       "      <td>Low_spent_Large_value_payments</td>\n",
       "      <td>284.62916249607184</td>\n",
       "      <td>Good</td>\n",
       "    </tr>\n",
       "    <tr>\n",
       "      <th>2</th>\n",
       "      <td>0x1604</td>\n",
       "      <td>CUS_0xd40</td>\n",
       "      <td>March</td>\n",
       "      <td>Aaron Maashoh</td>\n",
       "      <td>-500</td>\n",
       "      <td>821-00-0265</td>\n",
       "      <td>Scientist</td>\n",
       "      <td>19114.12</td>\n",
       "      <td>NaN</td>\n",
       "      <td>3</td>\n",
       "      <td>...</td>\n",
       "      <td>Good</td>\n",
       "      <td>809.98</td>\n",
       "      <td>28.609352</td>\n",
       "      <td>22 Years and 3 Months</td>\n",
       "      <td>No</td>\n",
       "      <td>49.574949</td>\n",
       "      <td>81.699521264648</td>\n",
       "      <td>Low_spent_Medium_value_payments</td>\n",
       "      <td>331.2098628537912</td>\n",
       "      <td>Good</td>\n",
       "    </tr>\n",
       "    <tr>\n",
       "      <th>3</th>\n",
       "      <td>0x1605</td>\n",
       "      <td>CUS_0xd40</td>\n",
       "      <td>April</td>\n",
       "      <td>Aaron Maashoh</td>\n",
       "      <td>23</td>\n",
       "      <td>821-00-0265</td>\n",
       "      <td>Scientist</td>\n",
       "      <td>19114.12</td>\n",
       "      <td>NaN</td>\n",
       "      <td>3</td>\n",
       "      <td>...</td>\n",
       "      <td>Good</td>\n",
       "      <td>809.98</td>\n",
       "      <td>31.377862</td>\n",
       "      <td>22 Years and 4 Months</td>\n",
       "      <td>No</td>\n",
       "      <td>49.574949</td>\n",
       "      <td>199.4580743910713</td>\n",
       "      <td>Low_spent_Small_value_payments</td>\n",
       "      <td>223.45130972736786</td>\n",
       "      <td>Good</td>\n",
       "    </tr>\n",
       "    <tr>\n",
       "      <th>4</th>\n",
       "      <td>0x1606</td>\n",
       "      <td>CUS_0xd40</td>\n",
       "      <td>May</td>\n",
       "      <td>Aaron Maashoh</td>\n",
       "      <td>23</td>\n",
       "      <td>821-00-0265</td>\n",
       "      <td>Scientist</td>\n",
       "      <td>19114.12</td>\n",
       "      <td>1824.843333</td>\n",
       "      <td>3</td>\n",
       "      <td>...</td>\n",
       "      <td>Good</td>\n",
       "      <td>809.98</td>\n",
       "      <td>24.797347</td>\n",
       "      <td>22 Years and 5 Months</td>\n",
       "      <td>No</td>\n",
       "      <td>49.574949</td>\n",
       "      <td>41.420153086217326</td>\n",
       "      <td>High_spent_Medium_value_payments</td>\n",
       "      <td>341.48923103222177</td>\n",
       "      <td>Good</td>\n",
       "    </tr>\n",
       "    <tr>\n",
       "      <th>...</th>\n",
       "      <td>...</td>\n",
       "      <td>...</td>\n",
       "      <td>...</td>\n",
       "      <td>...</td>\n",
       "      <td>...</td>\n",
       "      <td>...</td>\n",
       "      <td>...</td>\n",
       "      <td>...</td>\n",
       "      <td>...</td>\n",
       "      <td>...</td>\n",
       "      <td>...</td>\n",
       "      <td>...</td>\n",
       "      <td>...</td>\n",
       "      <td>...</td>\n",
       "      <td>...</td>\n",
       "      <td>...</td>\n",
       "      <td>...</td>\n",
       "      <td>...</td>\n",
       "      <td>...</td>\n",
       "      <td>...</td>\n",
       "      <td>...</td>\n",
       "    </tr>\n",
       "    <tr>\n",
       "      <th>99995</th>\n",
       "      <td>0x25fe9</td>\n",
       "      <td>CUS_0x942c</td>\n",
       "      <td>April</td>\n",
       "      <td>Nicks</td>\n",
       "      <td>25</td>\n",
       "      <td>078-73-5990</td>\n",
       "      <td>Mechanic</td>\n",
       "      <td>39628.99</td>\n",
       "      <td>3359.415833</td>\n",
       "      <td>4</td>\n",
       "      <td>...</td>\n",
       "      <td>_</td>\n",
       "      <td>502.38</td>\n",
       "      <td>34.663572</td>\n",
       "      <td>31 Years and 6 Months</td>\n",
       "      <td>No</td>\n",
       "      <td>35.104023</td>\n",
       "      <td>60.97133255718485</td>\n",
       "      <td>High_spent_Large_value_payments</td>\n",
       "      <td>479.86622816574095</td>\n",
       "      <td>Poor</td>\n",
       "    </tr>\n",
       "    <tr>\n",
       "      <th>99996</th>\n",
       "      <td>0x25fea</td>\n",
       "      <td>CUS_0x942c</td>\n",
       "      <td>May</td>\n",
       "      <td>Nicks</td>\n",
       "      <td>25</td>\n",
       "      <td>078-73-5990</td>\n",
       "      <td>Mechanic</td>\n",
       "      <td>39628.99</td>\n",
       "      <td>3359.415833</td>\n",
       "      <td>4</td>\n",
       "      <td>...</td>\n",
       "      <td>_</td>\n",
       "      <td>502.38</td>\n",
       "      <td>40.565631</td>\n",
       "      <td>31 Years and 7 Months</td>\n",
       "      <td>No</td>\n",
       "      <td>35.104023</td>\n",
       "      <td>54.18595028760385</td>\n",
       "      <td>High_spent_Medium_value_payments</td>\n",
       "      <td>496.651610435322</td>\n",
       "      <td>Poor</td>\n",
       "    </tr>\n",
       "    <tr>\n",
       "      <th>99997</th>\n",
       "      <td>0x25feb</td>\n",
       "      <td>CUS_0x942c</td>\n",
       "      <td>June</td>\n",
       "      <td>Nicks</td>\n",
       "      <td>25</td>\n",
       "      <td>078-73-5990</td>\n",
       "      <td>Mechanic</td>\n",
       "      <td>39628.99</td>\n",
       "      <td>3359.415833</td>\n",
       "      <td>4</td>\n",
       "      <td>...</td>\n",
       "      <td>Good</td>\n",
       "      <td>502.38</td>\n",
       "      <td>41.255522</td>\n",
       "      <td>31 Years and 8 Months</td>\n",
       "      <td>No</td>\n",
       "      <td>35.104023</td>\n",
       "      <td>24.02847744864441</td>\n",
       "      <td>High_spent_Large_value_payments</td>\n",
       "      <td>516.8090832742814</td>\n",
       "      <td>Poor</td>\n",
       "    </tr>\n",
       "    <tr>\n",
       "      <th>99998</th>\n",
       "      <td>0x25fec</td>\n",
       "      <td>CUS_0x942c</td>\n",
       "      <td>July</td>\n",
       "      <td>Nicks</td>\n",
       "      <td>25</td>\n",
       "      <td>078-73-5990</td>\n",
       "      <td>Mechanic</td>\n",
       "      <td>39628.99</td>\n",
       "      <td>3359.415833</td>\n",
       "      <td>4</td>\n",
       "      <td>...</td>\n",
       "      <td>Good</td>\n",
       "      <td>502.38</td>\n",
       "      <td>33.638208</td>\n",
       "      <td>31 Years and 9 Months</td>\n",
       "      <td>No</td>\n",
       "      <td>35.104023</td>\n",
       "      <td>251.67258219721603</td>\n",
       "      <td>Low_spent_Large_value_payments</td>\n",
       "      <td>319.1649785257098</td>\n",
       "      <td>Standard</td>\n",
       "    </tr>\n",
       "    <tr>\n",
       "      <th>99999</th>\n",
       "      <td>0x25fed</td>\n",
       "      <td>CUS_0x942c</td>\n",
       "      <td>August</td>\n",
       "      <td>Nicks</td>\n",
       "      <td>25</td>\n",
       "      <td>078-73-5990</td>\n",
       "      <td>Mechanic</td>\n",
       "      <td>39628.99_</td>\n",
       "      <td>3359.415833</td>\n",
       "      <td>4</td>\n",
       "      <td>...</td>\n",
       "      <td>Good</td>\n",
       "      <td>502.38</td>\n",
       "      <td>34.192463</td>\n",
       "      <td>31 Years and 10 Months</td>\n",
       "      <td>No</td>\n",
       "      <td>35.104023</td>\n",
       "      <td>167.1638651610451</td>\n",
       "      <td>!@9#%8</td>\n",
       "      <td>393.6736955618808</td>\n",
       "      <td>Poor</td>\n",
       "    </tr>\n",
       "  </tbody>\n",
       "</table>\n",
       "<p>100000 rows × 28 columns</p>\n",
       "</div>"
      ],
      "text/plain": [
       "            ID Customer_ID     Month           Name   Age          SSN  \\\n",
       "0       0x1602   CUS_0xd40   January  Aaron Maashoh    23  821-00-0265   \n",
       "1       0x1603   CUS_0xd40  February  Aaron Maashoh    23  821-00-0265   \n",
       "2       0x1604   CUS_0xd40     March  Aaron Maashoh  -500  821-00-0265   \n",
       "3       0x1605   CUS_0xd40     April  Aaron Maashoh    23  821-00-0265   \n",
       "4       0x1606   CUS_0xd40       May  Aaron Maashoh    23  821-00-0265   \n",
       "...        ...         ...       ...            ...   ...          ...   \n",
       "99995  0x25fe9  CUS_0x942c     April          Nicks    25  078-73-5990   \n",
       "99996  0x25fea  CUS_0x942c       May          Nicks    25  078-73-5990   \n",
       "99997  0x25feb  CUS_0x942c      June          Nicks    25  078-73-5990   \n",
       "99998  0x25fec  CUS_0x942c      July          Nicks    25  078-73-5990   \n",
       "99999  0x25fed  CUS_0x942c    August          Nicks    25  078-73-5990   \n",
       "\n",
       "      Occupation Annual_Income  Monthly_Inhand_Salary  Num_Bank_Accounts  ...  \\\n",
       "0      Scientist      19114.12            1824.843333                  3  ...   \n",
       "1      Scientist      19114.12                    NaN                  3  ...   \n",
       "2      Scientist      19114.12                    NaN                  3  ...   \n",
       "3      Scientist      19114.12                    NaN                  3  ...   \n",
       "4      Scientist      19114.12            1824.843333                  3  ...   \n",
       "...          ...           ...                    ...                ...  ...   \n",
       "99995   Mechanic      39628.99            3359.415833                  4  ...   \n",
       "99996   Mechanic      39628.99            3359.415833                  4  ...   \n",
       "99997   Mechanic      39628.99            3359.415833                  4  ...   \n",
       "99998   Mechanic      39628.99            3359.415833                  4  ...   \n",
       "99999   Mechanic     39628.99_            3359.415833                  4  ...   \n",
       "\n",
       "       Credit_Mix  Outstanding_Debt Credit_Utilization_Ratio  \\\n",
       "0               _            809.98                26.822620   \n",
       "1            Good            809.98                31.944960   \n",
       "2            Good            809.98                28.609352   \n",
       "3            Good            809.98                31.377862   \n",
       "4            Good            809.98                24.797347   \n",
       "...           ...               ...                      ...   \n",
       "99995           _            502.38                34.663572   \n",
       "99996           _            502.38                40.565631   \n",
       "99997        Good            502.38                41.255522   \n",
       "99998        Good            502.38                33.638208   \n",
       "99999        Good            502.38                34.192463   \n",
       "\n",
       "           Credit_History_Age  Payment_of_Min_Amount Total_EMI_per_month  \\\n",
       "0       22 Years and 1 Months                     No           49.574949   \n",
       "1                         NaN                     No           49.574949   \n",
       "2       22 Years and 3 Months                     No           49.574949   \n",
       "3       22 Years and 4 Months                     No           49.574949   \n",
       "4       22 Years and 5 Months                     No           49.574949   \n",
       "...                       ...                    ...                 ...   \n",
       "99995   31 Years and 6 Months                     No           35.104023   \n",
       "99996   31 Years and 7 Months                     No           35.104023   \n",
       "99997   31 Years and 8 Months                     No           35.104023   \n",
       "99998   31 Years and 9 Months                     No           35.104023   \n",
       "99999  31 Years and 10 Months                     No           35.104023   \n",
       "\n",
       "      Amount_invested_monthly                 Payment_Behaviour  \\\n",
       "0           80.41529543900253   High_spent_Small_value_payments   \n",
       "1          118.28022162236736    Low_spent_Large_value_payments   \n",
       "2             81.699521264648   Low_spent_Medium_value_payments   \n",
       "3           199.4580743910713    Low_spent_Small_value_payments   \n",
       "4          41.420153086217326  High_spent_Medium_value_payments   \n",
       "...                       ...                               ...   \n",
       "99995       60.97133255718485   High_spent_Large_value_payments   \n",
       "99996       54.18595028760385  High_spent_Medium_value_payments   \n",
       "99997       24.02847744864441   High_spent_Large_value_payments   \n",
       "99998      251.67258219721603    Low_spent_Large_value_payments   \n",
       "99999       167.1638651610451                            !@9#%8   \n",
       "\n",
       "          Monthly_Balance Credit_Score  \n",
       "0      312.49408867943663         Good  \n",
       "1      284.62916249607184         Good  \n",
       "2       331.2098628537912         Good  \n",
       "3      223.45130972736786         Good  \n",
       "4      341.48923103222177         Good  \n",
       "...                   ...          ...  \n",
       "99995  479.86622816574095         Poor  \n",
       "99996    496.651610435322         Poor  \n",
       "99997   516.8090832742814         Poor  \n",
       "99998   319.1649785257098     Standard  \n",
       "99999   393.6736955618808         Poor  \n",
       "\n",
       "[100000 rows x 28 columns]"
      ]
     },
     "execution_count": 414,
     "metadata": {},
     "output_type": "execute_result"
    }
   ],
   "source": [
    "df"
   ]
  },
  {
   "cell_type": "code",
   "execution_count": 415,
   "metadata": {},
   "outputs": [
    {
     "name": "stdout",
     "output_type": "stream",
     "text": [
      "<class 'pandas.core.frame.DataFrame'>\n",
      "RangeIndex: 100000 entries, 0 to 99999\n",
      "Data columns (total 28 columns):\n",
      " #   Column                    Non-Null Count   Dtype  \n",
      "---  ------                    --------------   -----  \n",
      " 0   ID                        100000 non-null  object \n",
      " 1   Customer_ID               100000 non-null  object \n",
      " 2   Month                     100000 non-null  object \n",
      " 3   Name                      90015 non-null   object \n",
      " 4   Age                       100000 non-null  object \n",
      " 5   SSN                       100000 non-null  object \n",
      " 6   Occupation                100000 non-null  object \n",
      " 7   Annual_Income             100000 non-null  object \n",
      " 8   Monthly_Inhand_Salary     84998 non-null   float64\n",
      " 9   Num_Bank_Accounts         100000 non-null  int64  \n",
      " 10  Num_Credit_Card           100000 non-null  int64  \n",
      " 11  Interest_Rate             100000 non-null  int64  \n",
      " 12  Num_of_Loan               100000 non-null  object \n",
      " 13  Type_of_Loan              88592 non-null   object \n",
      " 14  Delay_from_due_date       100000 non-null  int64  \n",
      " 15  Num_of_Delayed_Payment    92998 non-null   object \n",
      " 16  Changed_Credit_Limit      100000 non-null  object \n",
      " 17  Num_Credit_Inquiries      98035 non-null   float64\n",
      " 18  Credit_Mix                100000 non-null  object \n",
      " 19  Outstanding_Debt          100000 non-null  object \n",
      " 20  Credit_Utilization_Ratio  100000 non-null  float64\n",
      " 21  Credit_History_Age        90970 non-null   object \n",
      " 22  Payment_of_Min_Amount     100000 non-null  object \n",
      " 23  Total_EMI_per_month       100000 non-null  float64\n",
      " 24  Amount_invested_monthly   95521 non-null   object \n",
      " 25  Payment_Behaviour         100000 non-null  object \n",
      " 26  Monthly_Balance           98800 non-null   object \n",
      " 27  Credit_Score              100000 non-null  object \n",
      "dtypes: float64(4), int64(4), object(20)\n",
      "memory usage: 21.4+ MB\n"
     ]
    }
   ],
   "source": [
    "df.info()"
   ]
  },
  {
   "cell_type": "code",
   "execution_count": 416,
   "metadata": {},
   "outputs": [
    {
     "name": "stdout",
     "output_type": "stream",
     "text": [
      "Number of Unique Ids:  12500\n",
      "Number of Unique Names:  10139\n",
      "Number of Unique SSNs:  12501\n"
     ]
    }
   ],
   "source": [
    "print(\"Number of Unique Ids: \",df[\"Customer_ID\"].nunique())\n",
    "print(\"Number of Unique Names: \",df[\"Name\"].nunique())\n",
    "print(\"Number of Unique SSNs: \",df[\"SSN\"].nunique())"
   ]
  },
  {
   "cell_type": "code",
   "execution_count": 417,
   "metadata": {},
   "outputs": [
    {
     "name": "stdout",
     "output_type": "stream",
     "text": [
      "Number of null Ids:  0\n",
      "Number of null Names:  9985\n",
      "Number of null SSNs:  0\n"
     ]
    }
   ],
   "source": [
    "print(\"Number of null Ids: \",df[\"Customer_ID\"].isnull().sum())\n",
    "print(\"Number of null Names: \",df[\"Name\"].isnull().sum())\n",
    "print(\"Number of null SSNs: \",df[\"SSN\"].isnull().sum())"
   ]
  },
  {
   "cell_type": "code",
   "execution_count": 418,
   "metadata": {},
   "outputs": [
    {
     "name": "stdout",
     "output_type": "stream",
     "text": [
      "Empty DataFrame\n",
      "Columns: [ID, Customer_ID, Month, Name, Age, SSN, Occupation, Annual_Income, Monthly_Inhand_Salary, Num_Bank_Accounts, Num_Credit_Card, Interest_Rate, Num_of_Loan, Type_of_Loan, Delay_from_due_date, Num_of_Delayed_Payment, Changed_Credit_Limit, Num_Credit_Inquiries, Credit_Mix, Outstanding_Debt, Credit_Utilization_Ratio, Credit_History_Age, Payment_of_Min_Amount, Total_EMI_per_month, Amount_invested_monthly, Payment_Behaviour, Monthly_Balance, Credit_Score]\n",
      "Index: []\n",
      "\n",
      "[0 rows x 28 columns]\n"
     ]
    }
   ],
   "source": [
    "pattern = r'^CUS_0x'\n",
    "\n",
    "not_matching = df[~df['Customer_ID'].str.contains(pattern, regex=True, na=False)]\n",
    "print(not_matching)\n",
    "\n",
    "# Every Customer_ID is in pattern of \"CUS_0x...\" Hence no need to clean. 12500 Unique customers present in df."
   ]
  },
  {
   "cell_type": "code",
   "execution_count": 419,
   "metadata": {},
   "outputs": [
    {
     "name": "stdout",
     "output_type": "stream",
     "text": [
      "            ID Customer_ID    Month              Name  Age        SSN  \\\n",
      "7       0x1609   CUS_0xd40   August               NaN   23  #F%$D@*&8   \n",
      "29      0x162b  CUS_0xb891     June            Jasond   55  #F%$D@*&8   \n",
      "51      0x164d  CUS_0x284a    April            Nadiaq   34  #F%$D@*&8   \n",
      "54      0x1650  CUS_0x284a     July            Nadiaq  34_  #F%$D@*&8   \n",
      "98      0x1694  CUS_0x3e45    March   Harriet McLeodd   35  #F%$D@*&8   \n",
      "...        ...         ...      ...               ...  ...        ...   \n",
      "99914  0x25f70  CUS_0x1619    March       Phil Wahbao   54  #F%$D@*&8   \n",
      "99942  0x25f98  CUS_0xad4f     July  Sabina Zawadzkig  48_  #F%$D@*&8   \n",
      "99946  0x25fa0  CUS_0x51b3    March             Ryana   33  #F%$D@*&8   \n",
      "99968  0x25fc2   CUS_0xf16  January    Maria Sheahanb   44  #F%$D@*&8   \n",
      "99988  0x25fde  CUS_0x8600      May    Sarah McBridec   28  #F%$D@*&8   \n",
      "\n",
      "          Occupation Annual_Income  Monthly_Inhand_Salary  Num_Bank_Accounts  \\\n",
      "7          Scientist      19114.12            1824.843333                  3   \n",
      "29           _______      30689.89            2612.490833                  2   \n",
      "51            Lawyer      131313.4           10469.207759                  0   \n",
      "54            Lawyer    10909427.0                    NaN                  0   \n",
      "98      Entrepreneur     54392.16_                    NaN                  6   \n",
      "...              ...           ...                    ...                ...   \n",
      "99914  Media_Manager      20059.98            1523.665000                  8   \n",
      "99942      Developer      22620.79            1722.065833                  6   \n",
      "99946  Media_Manager      59146.36            4908.863333                  2   \n",
      "99968  Media_Manager      16680.35            1528.029167                  1   \n",
      "99988      Architect      20002.88            1929.906667                 10   \n",
      "\n",
      "       ...  Credit_Mix  Outstanding_Debt Credit_Utilization_Ratio  \\\n",
      "7      ...        Good            809.98                23.933795   \n",
      "29     ...           _            632.46                27.445422   \n",
      "51     ...        Good            352.16                42.645785   \n",
      "54     ...        Good            352.16                26.947565   \n",
      "98     ...           _            179.22                31.258928   \n",
      "...    ...         ...               ...                      ...   \n",
      "99914  ...        Good            909.01                29.204711   \n",
      "99942  ...    Standard            642.46                24.714779   \n",
      "99946  ...        Good            418.03                35.750925   \n",
      "99968  ...        Good            897.16                39.868572   \n",
      "99988  ...           _            3571.7                28.508250   \n",
      "\n",
      "           Credit_History_Age  Payment_of_Min_Amount Total_EMI_per_month  \\\n",
      "7                         NaN                     No           49.574949   \n",
      "29      17 Years and 8 Months                     No           16.415452   \n",
      "51     30 Years and 10 Months                     No        23834.000000   \n",
      "54      31 Years and 1 Months                     No          911.220179   \n",
      "98      27 Years and 0 Months                     NM          124.392082   \n",
      "...                       ...                    ...                 ...   \n",
      "99914   16 Years and 5 Months                     No           45.076827   \n",
      "99942   29 Years and 9 Months                     No            0.000000   \n",
      "99946   20 Years and 3 Months                     No           26.778419   \n",
      "99968                     NaN                     NM           41.113561   \n",
      "99988    6 Years and 0 Months                    Yes           60.964772   \n",
      "\n",
      "      Amount_invested_monthly                 Payment_Behaviour  \\\n",
      "7          24.785216509052056  High_spent_Medium_value_payments   \n",
      "29          84.95284817115969   High_spent_Small_value_payments   \n",
      "51         337.43495631738324  High_spent_Medium_value_payments   \n",
      "54          930.3918977796665                            !@9#%8   \n",
      "98         33.349568589344514   High_spent_Large_value_payments   \n",
      "...                       ...                               ...   \n",
      "99914      111.56713873012444    Low_spent_Large_value_payments   \n",
      "99942       16.53218878920387   High_spent_Large_value_payments   \n",
      "99946      188.54469705568923  High_spent_Medium_value_payments   \n",
      "99968       52.95197781627658   High_spent_Small_value_payments   \n",
      "99988      213.97800979403817    Low_spent_Small_value_payments   \n",
      "\n",
      "          Monthly_Balance Credit_Score  \n",
      "7      358.12416760938714     Standard  \n",
      "29      419.8807835023488     Standard  \n",
      "51      899.1987716145285         Good  \n",
      "54     326.24183015224526         Good  \n",
      "98      558.9263489897351     Standard  \n",
      "...                   ...          ...  \n",
      "99914   265.7225343291984         Poor  \n",
      "99942   395.6743945441295         Poor  \n",
      "99946   525.5632170056026     Standard  \n",
      "99968  318.73737826046414         Good  \n",
      "99988  208.04788449920608     Standard  \n",
      "\n",
      "[5572 rows x 28 columns]\n",
      "Number of different miss match values:  1\n"
     ]
    }
   ],
   "source": [
    "pattern = r'^\\d{3}-\\d{2}-\\d{4}$'\n",
    "\n",
    "not_matching = df[~df['SSN'].str.contains(pattern, regex=True, na=False)]\n",
    "print(not_matching)\n",
    "\n",
    "print(\"Number of different miss match values: \",not_matching[\"SSN\"].nunique())\n",
    "\n",
    "# There are 5572 SSN with not the pattern \"[3 digits]-[2 digits]-[ 4 digits]\". Those values are #F%$D@*&8 "
   ]
  },
  {
   "cell_type": "code",
   "execution_count": 420,
   "metadata": {},
   "outputs": [],
   "source": [
    "df['SSN'] = df['SSN'].replace('#F%$D@*&8', np.nan)\n",
    "\n",
    "# Replace those #F%$D@*&8 values from null"
   ]
  },
  {
   "cell_type": "code",
   "execution_count": 421,
   "metadata": {},
   "outputs": [],
   "source": [
    "ssn_counts = df.groupby(['Customer_ID', 'SSN']).size().reset_index(name='count')\n",
    "most_frequent_ssn = ssn_counts.loc[ssn_counts.groupby('Customer_ID')['count'].idxmax()]\n",
    "most_frequent_ssn = most_frequent_ssn.rename(columns={'SSN': 'Most_Frequent_SSN'})\n",
    "df = df.merge(most_frequent_ssn[['Customer_ID', 'Most_Frequent_SSN']], on='Customer_ID', how='left')\n",
    "df['SSN'] = df['Most_Frequent_SSN']\n",
    "df.drop(columns=['Most_Frequent_SSN'], inplace=True)\n",
    "\n",
    "\n",
    "## Replace nan values in SSN with correct SSN number"
   ]
  },
  {
   "cell_type": "code",
   "execution_count": 422,
   "metadata": {},
   "outputs": [
    {
     "name": "stdout",
     "output_type": "stream",
     "text": [
      "            ID Customer_ID     Month Name Age          SSN     Occupation  \\\n",
      "7       0x1609   CUS_0xd40    August  NaN  23  821-00-0265      Scientist   \n",
      "17      0x161b  CUS_0x2dbc  February  NaN  34  486-85-3974       Engineer   \n",
      "22      0x1620  CUS_0x2dbc      July  NaN  34  486-85-3974       Engineer   \n",
      "64      0x1662  CUS_0x4157   January  NaN  23  070-19-1622         Doctor   \n",
      "80      0x167a  CUS_0xa66b   January  NaN  40  221-30-8554        Teacher   \n",
      "...        ...         ...       ...  ...  ..          ...            ...   \n",
      "99964  0x25fba  CUS_0x372c       May  NaN  18  340-85-7301         Lawyer   \n",
      "99965  0x25fbb  CUS_0x372c      June  NaN  19  340-85-7301         Lawyer   \n",
      "99969  0x25fc3   CUS_0xf16  February  NaN  45  868-70-2218  Media_Manager   \n",
      "99973  0x25fc7   CUS_0xf16      June  NaN  45  868-70-2218  Media_Manager   \n",
      "99986  0x25fdc  CUS_0x8600     March  NaN  28  031-35-0942      Architect   \n",
      "\n",
      "      Annual_Income  Monthly_Inhand_Salary  Num_Bank_Accounts  ...  \\\n",
      "7          19114.12            1824.843333                  3  ...   \n",
      "17        143162.64           12187.220000                  1  ...   \n",
      "22        143162.64           12187.220000                  1  ...   \n",
      "64        114838.41            9843.867500                  2  ...   \n",
      "80         33751.27            2948.605833                  5  ...   \n",
      "...             ...                    ...                ...  ...   \n",
      "99964      42903.79            3468.315833                  0  ...   \n",
      "99965      42903.79            3468.315833                  0  ...   \n",
      "99969      16680.35            1528.029167                  1  ...   \n",
      "99973      16680.35            1528.029167                  1  ...   \n",
      "99986      20002.88            1929.906667                 10  ...   \n",
      "\n",
      "       Credit_Mix  Outstanding_Debt Credit_Utilization_Ratio  \\\n",
      "7            Good            809.98                23.933795   \n",
      "17           Good           1303.01                41.702573   \n",
      "22           Good           1303.01                38.068624   \n",
      "64           Good           1377.74                33.664554   \n",
      "80       Standard           1328.93                37.089076   \n",
      "...           ...               ...                      ...   \n",
      "99964        Good           1079.48                23.140640   \n",
      "99965        Good           1079.48                35.549456   \n",
      "99969        Good            897.16                34.085971   \n",
      "99973        Good            897.16                24.972853   \n",
      "99986         Bad            3571.7                24.713861   \n",
      "\n",
      "           Credit_History_Age  Payment_of_Min_Amount Total_EMI_per_month  \\\n",
      "7                         NaN                     No           49.574949   \n",
      "17     17 Years and 10 Months                     No          246.992319   \n",
      "22      18 Years and 3 Months                     No          246.992319   \n",
      "64      21 Years and 4 Months                     No          226.892792   \n",
      "80      19 Years and 2 Months                     NM           65.008174   \n",
      "...                       ...                    ...                 ...   \n",
      "99964   28 Years and 5 Months                     No           34.975457   \n",
      "99965   28 Years and 6 Months                     No           34.975457   \n",
      "99969   21 Years and 2 Months                     No           41.113561   \n",
      "99973   21 Years and 6 Months                     No           41.113561   \n",
      "99986   5 Years and 10 Months                    Yes           60.964772   \n",
      "\n",
      "      Amount_invested_monthly                 Payment_Behaviour  \\\n",
      "7          24.785216509052056  High_spent_Medium_value_payments   \n",
      "17         232.86038375993544   High_spent_Small_value_payments   \n",
      "22         263.17416316163934   High_spent_Small_value_payments   \n",
      "64         215.19351594560425   High_spent_Small_value_payments   \n",
      "80         117.30669710658556  High_spent_Medium_value_payments   \n",
      "...                       ...                               ...   \n",
      "99964       450.6460933992599    Low_spent_Small_value_payments   \n",
      "99965       187.3559686116327    Low_spent_Large_value_payments   \n",
      "99969      104.64623687765652   High_spent_Small_value_payments   \n",
      "99973               __10000__    Low_spent_Small_value_payments   \n",
      "99986       76.28279349064607    Low_spent_Small_value_payments   \n",
      "\n",
      "          Monthly_Balance Credit_Score  \n",
      "7      358.12416760938714     Standard  \n",
      "17      998.8692967863226         Good  \n",
      "22      968.5555173846187     Standard  \n",
      "64      802.3004421328528         Good  \n",
      "80     362.54571194023237     Standard  \n",
      "...                   ...          ...  \n",
      "99964  151.21003324003215         Good  \n",
      "99965   394.5001580276593         Good  \n",
      "99969  267.04311919908423         Good  \n",
      "99973   233.3015390325111         Good  \n",
      "99986   345.7431008025983         Poor  \n",
      "\n",
      "[10829 rows x 28 columns]\n",
      "Number of different miss match values:  99\n"
     ]
    }
   ],
   "source": [
    "pattern = r'^[A-Za-z\\s.-]+$'\n",
    "\n",
    "not_matching = df[~df['Name'].str.contains(pattern, regex=True, na=False)]\n",
    "print(not_matching)\n",
    "\n",
    "print(\"Number of different miss match values: \",not_matching[\"Name\"].nunique())\n",
    "\n",
    "# There are 99 Names with not the pattern '^[A-Za-z\\s.-]+$'. Those values containe \" , symbols"
   ]
  },
  {
   "cell_type": "code",
   "execution_count": 423,
   "metadata": {},
   "outputs": [],
   "source": [
    "df['Name'] = df['Name'].str.replace('\"', '').str.replace(',', '').str.strip()\n",
    "\n",
    "# remove \" , symbols"
   ]
  },
  {
   "cell_type": "code",
   "execution_count": 424,
   "metadata": {},
   "outputs": [],
   "source": [
    "name_counts = df.groupby(['Customer_ID', 'Name']).size().reset_index(name='count')\n",
    "most_frequent_name = name_counts.loc[name_counts.groupby('Customer_ID')['count'].idxmax()]\n",
    "most_frequent_name = most_frequent_name.rename(columns={'Name': 'Most_Frequent_Name'})\n",
    "df = df.merge(most_frequent_name[['Customer_ID', 'Most_Frequent_Name']], on='Customer_ID', how='left')\n",
    "df['Name'] = df['Most_Frequent_Name']\n",
    "df.drop(columns=['Most_Frequent_Name'], inplace=True)\n",
    "\n",
    "\n",
    "## Replace nan values in Name with correct Name"
   ]
  },
  {
   "cell_type": "code",
   "execution_count": 425,
   "metadata": {},
   "outputs": [
    {
     "data": {
      "text/plain": [
       "10128"
      ]
     },
     "execution_count": 425,
     "metadata": {},
     "output_type": "execute_result"
    }
   ],
   "source": [
    "df[\"Name\"].nunique()\n",
    "\n",
    "## There are 12500 unique customer ids. but only have 10128 unique naems. Hence there are few customer with same name."
   ]
  },
  {
   "cell_type": "code",
   "execution_count": 426,
   "metadata": {},
   "outputs": [],
   "source": [
    "df[\"Month\"].unique()\n",
    "\n",
    "month_mapping = {\n",
    "    'January': 1,\n",
    "    'February': 2,\n",
    "    'March': 3,\n",
    "    'April': 4,\n",
    "    'May': 5,\n",
    "    'June': 6,\n",
    "    'July': 7,\n",
    "    'August': 8\n",
    "}\n",
    "\n",
    "df['Month'] = df['Month'].map(month_mapping)\n",
    "\n",
    "# Replace month with month number"
   ]
  },
  {
   "cell_type": "code",
   "execution_count": 427,
   "metadata": {},
   "outputs": [
    {
     "name": "stdout",
     "output_type": "stream",
     "text": [
      "            ID Customer_ID  Month           Name  Age          SSN Occupation  \\\n",
      "0       0x1602   CUS_0xd40      1  Aaron Maashoh   23  821-00-0265  Scientist   \n",
      "1       0x1603   CUS_0xd40      2  Aaron Maashoh   23  821-00-0265  Scientist   \n",
      "2       0x1604   CUS_0xd40      3  Aaron Maashoh  500  821-00-0265  Scientist   \n",
      "3       0x1605   CUS_0xd40      4  Aaron Maashoh   23  821-00-0265  Scientist   \n",
      "4       0x1606   CUS_0xd40      5  Aaron Maashoh   23  821-00-0265  Scientist   \n",
      "...        ...         ...    ...            ...  ...          ...        ...   \n",
      "99995  0x25fe9  CUS_0x942c      4          Nicks   25  078-73-5990   Mechanic   \n",
      "99996  0x25fea  CUS_0x942c      5          Nicks   25  078-73-5990   Mechanic   \n",
      "99997  0x25feb  CUS_0x942c      6          Nicks   25  078-73-5990   Mechanic   \n",
      "99998  0x25fec  CUS_0x942c      7          Nicks   25  078-73-5990   Mechanic   \n",
      "99999  0x25fed  CUS_0x942c      8          Nicks   25  078-73-5990   Mechanic   \n",
      "\n",
      "      Annual_Income  Monthly_Inhand_Salary  Num_Bank_Accounts  ...  \\\n",
      "0          19114.12            1824.843333                  3  ...   \n",
      "1          19114.12                    NaN                  3  ...   \n",
      "2          19114.12                    NaN                  3  ...   \n",
      "3          19114.12                    NaN                  3  ...   \n",
      "4          19114.12            1824.843333                  3  ...   \n",
      "...             ...                    ...                ...  ...   \n",
      "99995      39628.99            3359.415833                  4  ...   \n",
      "99996      39628.99            3359.415833                  4  ...   \n",
      "99997      39628.99            3359.415833                  4  ...   \n",
      "99998      39628.99            3359.415833                  4  ...   \n",
      "99999     39628.99_            3359.415833                  4  ...   \n",
      "\n",
      "       Credit_Mix  Outstanding_Debt Credit_Utilization_Ratio  \\\n",
      "0               _            809.98                26.822620   \n",
      "1            Good            809.98                31.944960   \n",
      "2            Good            809.98                28.609352   \n",
      "3            Good            809.98                31.377862   \n",
      "4            Good            809.98                24.797347   \n",
      "...           ...               ...                      ...   \n",
      "99995           _            502.38                34.663572   \n",
      "99996           _            502.38                40.565631   \n",
      "99997        Good            502.38                41.255522   \n",
      "99998        Good            502.38                33.638208   \n",
      "99999        Good            502.38                34.192463   \n",
      "\n",
      "           Credit_History_Age  Payment_of_Min_Amount Total_EMI_per_month  \\\n",
      "0       22 Years and 1 Months                     No           49.574949   \n",
      "1                         NaN                     No           49.574949   \n",
      "2       22 Years and 3 Months                     No           49.574949   \n",
      "3       22 Years and 4 Months                     No           49.574949   \n",
      "4       22 Years and 5 Months                     No           49.574949   \n",
      "...                       ...                    ...                 ...   \n",
      "99995   31 Years and 6 Months                     No           35.104023   \n",
      "99996   31 Years and 7 Months                     No           35.104023   \n",
      "99997   31 Years and 8 Months                     No           35.104023   \n",
      "99998   31 Years and 9 Months                     No           35.104023   \n",
      "99999  31 Years and 10 Months                     No           35.104023   \n",
      "\n",
      "      Amount_invested_monthly                 Payment_Behaviour  \\\n",
      "0           80.41529543900253   High_spent_Small_value_payments   \n",
      "1          118.28022162236736    Low_spent_Large_value_payments   \n",
      "2             81.699521264648   Low_spent_Medium_value_payments   \n",
      "3           199.4580743910713    Low_spent_Small_value_payments   \n",
      "4          41.420153086217326  High_spent_Medium_value_payments   \n",
      "...                       ...                               ...   \n",
      "99995       60.97133255718485   High_spent_Large_value_payments   \n",
      "99996       54.18595028760385  High_spent_Medium_value_payments   \n",
      "99997       24.02847744864441   High_spent_Large_value_payments   \n",
      "99998      251.67258219721603    Low_spent_Large_value_payments   \n",
      "99999       167.1638651610451                            !@9#%8   \n",
      "\n",
      "          Monthly_Balance Credit_Score  \n",
      "0      312.49408867943663         Good  \n",
      "1      284.62916249607184         Good  \n",
      "2       331.2098628537912         Good  \n",
      "3      223.45130972736786         Good  \n",
      "4      341.48923103222177         Good  \n",
      "...                   ...          ...  \n",
      "99995  479.86622816574095         Poor  \n",
      "99996    496.651610435322         Poor  \n",
      "99997   516.8090832742814         Poor  \n",
      "99998   319.1649785257098     Standard  \n",
      "99999   393.6736955618808         Poor  \n",
      "\n",
      "[100000 rows x 28 columns]\n"
     ]
    }
   ],
   "source": [
    "df[\"Age\"].unique()\n",
    "\n",
    "def extract_numeric_age(age_str):\n",
    "    digits = ''.join(filter(str.isdigit, age_str))\n",
    "    return int(digits) if digits else None\n",
    "\n",
    "df['Age'] = df['Age'].apply(extract_numeric_age)\n",
    "\n",
    "print(df)\n",
    "\n",
    "# Convert Age to int"
   ]
  },
  {
   "cell_type": "code",
   "execution_count": 428,
   "metadata": {},
   "outputs": [
    {
     "name": "stdout",
     "output_type": "stream",
     "text": [
      "Customer_ID\n",
      "CUS_0x1048    3\n",
      "CUS_0x104a    3\n",
      "CUS_0x104f    3\n",
      "CUS_0x1051    3\n",
      "CUS_0x109d    3\n",
      "             ..\n",
      "CUS_0xfb4     3\n",
      "CUS_0xfb8     3\n",
      "CUS_0xfd1     3\n",
      "CUS_0xfdf     3\n",
      "CUS_0xff4     3\n",
      "Name: Age, Length: 1518, dtype: int64\n"
     ]
    }
   ],
   "source": [
    "unique_age_per_id = df.groupby('Customer_ID')['Age'].nunique()\n",
    "\n",
    "ids_with_more_than_3_age_valuies = unique_age_per_id[unique_age_per_id >= 3]\n",
    "print(ids_with_more_than_3_age_valuies)\n",
    "\n",
    "# For purticular customer there can be have 2 age values. Because their birthday must be in one of the considering month. But not can have 3 or more age values.\n",
    "# Hence these customers must have incorrect age value.\n"
   ]
  },
  {
   "cell_type": "code",
   "execution_count": 429,
   "metadata": {},
   "outputs": [],
   "source": [
    "age_counts = df.groupby(['Customer_ID', 'Age']).size().reset_index(name='count')\n",
    "most_frequent_age = age_counts.loc[age_counts.groupby('Customer_ID')['count'].idxmax()]\n",
    "most_frequent_age = most_frequent_age.rename(columns={'Age': 'Most_Frequent_Age'})\n",
    "df = df.merge(most_frequent_age[['Customer_ID', 'Most_Frequent_Age']], on='Customer_ID', how='left')\n",
    "df['Age'] = df['Most_Frequent_Age']\n",
    "df.drop(columns=['Most_Frequent_Age'], inplace=True)\n",
    "\n",
    "# We agreed that we dont need exactly monthly age of customer. Hence we get customer age as highest frequency of age."
   ]
  },
  {
   "cell_type": "code",
   "execution_count": 430,
   "metadata": {},
   "outputs": [
    {
     "data": {
      "text/plain": [
       "count    100000.000000\n",
       "mean         33.274560\n",
       "std          10.764438\n",
       "min          14.000000\n",
       "25%          24.000000\n",
       "50%          33.000000\n",
       "75%          42.000000\n",
       "max          56.000000\n",
       "Name: Age, dtype: float64"
      ]
     },
     "execution_count": 430,
     "metadata": {},
     "output_type": "execute_result"
    }
   ],
   "source": [
    "df[\"Age\"].describe()\n",
    "\n",
    "# Age values are in good range."
   ]
  },
  {
   "cell_type": "code",
   "execution_count": 431,
   "metadata": {},
   "outputs": [
    {
     "name": "stdout",
     "output_type": "stream",
     "text": [
      "            ID Customer_ID  Month             Name  Age          SSN  \\\n",
      "8       0x160e  CUS_0x21b1      1  Rick Rothackerj   28  004-07-5839   \n",
      "16      0x161a  CUS_0x2dbc      1           Langep   34  486-85-3974   \n",
      "18      0x161c  CUS_0x2dbc      3           Langep   34  486-85-3974   \n",
      "20      0x161e  CUS_0x2dbc      5           Langep   34  486-85-3974   \n",
      "29      0x162b  CUS_0xb891      6           Jasond   55  072-31-6145   \n",
      "...        ...         ...    ...              ...  ...          ...   \n",
      "99972  0x25fc6   CUS_0xf16      5   Maria Sheahanb   45  868-70-2218   \n",
      "99973  0x25fc7   CUS_0xf16      6   Maria Sheahanb   45  868-70-2218   \n",
      "99974  0x25fc8   CUS_0xf16      7   Maria Sheahanb   45  868-70-2218   \n",
      "99975  0x25fc9   CUS_0xf16      8   Maria Sheahanb   45  868-70-2218   \n",
      "99989  0x25fdf  CUS_0x8600      6   Sarah McBridec   28  031-35-0942   \n",
      "\n",
      "          Occupation Annual_Income  Monthly_Inhand_Salary  Num_Bank_Accounts  \\\n",
      "8            _______      34847.84            3037.986667                  2   \n",
      "16           _______     143162.64           12187.220000                  1   \n",
      "18           _______     143162.64                    NaN                  1   \n",
      "20           _______     143162.64           12187.220000                  1   \n",
      "29           _______      30689.89            2612.490833                  2   \n",
      "...              ...           ...                    ...                ...   \n",
      "99972  Media_Manager      16680.35            1528.029167                  1   \n",
      "99973  Media_Manager      16680.35            1528.029167                  1   \n",
      "99974  Media_Manager     16680.35_            1528.029167                  1   \n",
      "99975  Media_Manager      16680.35                    NaN                  1   \n",
      "99989        _______      20002.88            1929.906667                 10   \n",
      "\n",
      "       ...  Credit_Mix  Outstanding_Debt Credit_Utilization_Ratio  \\\n",
      "8      ...        Good            605.03                24.464031   \n",
      "16     ...        Good           1303.01                28.616735   \n",
      "18     ...        Good           1303.01                26.519815   \n",
      "20     ...        Good           1303.01                31.376150   \n",
      "29     ...           _            632.46                27.445422   \n",
      "...    ...         ...               ...                      ...   \n",
      "99972  ...        Good            897.16                37.788217   \n",
      "99973  ...        Good            897.16                24.972853   \n",
      "99974  ...           _            897.16                36.166925   \n",
      "99975  ...        Good            897.16                41.212367   \n",
      "99989  ...         Bad            3571.7                33.359987   \n",
      "\n",
      "           Credit_History_Age  Payment_of_Min_Amount Total_EMI_per_month  \\\n",
      "8       26 Years and 7 Months                     No           18.816215   \n",
      "16      17 Years and 9 Months                     No          246.992319   \n",
      "18     17 Years and 11 Months                     No          246.992319   \n",
      "20      18 Years and 1 Months                     No          246.992319   \n",
      "29      17 Years and 8 Months                     No           16.415452   \n",
      "...                       ...                    ...                 ...   \n",
      "99972   21 Years and 5 Months                     No           41.113561   \n",
      "99973   21 Years and 6 Months                     No           41.113561   \n",
      "99974   21 Years and 7 Months                     No           41.113561   \n",
      "99975                     NaN                     No           41.113561   \n",
      "99989    6 Years and 1 Months                    Yes           60.964772   \n",
      "\n",
      "      Amount_invested_monthly                Payment_Behaviour  \\\n",
      "8            104.291825168246   Low_spent_Small_value_payments   \n",
      "16           168.413702679309                           !@9#%8   \n",
      "18                  __10000__  High_spent_Small_value_payments   \n",
      "20          430.9475278803298   Low_spent_Large_value_payments   \n",
      "29          84.95284817115969  High_spent_Small_value_payments   \n",
      "...                       ...                              ...   \n",
      "99972       64.54974829039807   Low_spent_Large_value_payments   \n",
      "99973               __10000__   Low_spent_Small_value_payments   \n",
      "99974                     NaN   Low_spent_Small_value_payments   \n",
      "99975        70.8055497847255   Low_spent_Large_value_payments   \n",
      "99989       74.36660309585342                           !@9#%8   \n",
      "\n",
      "          Monthly_Balance Credit_Score  \n",
      "8      470.69062692529184     Standard  \n",
      "16     1043.3159778669492         Good  \n",
      "18       715.741367403555         Good  \n",
      "20      810.7821526659284         Good  \n",
      "29      419.8807835023488     Standard  \n",
      "...                   ...          ...  \n",
      "99972   317.1396077863426     Standard  \n",
      "99973   233.3015390325111         Good  \n",
      "99974  340.68483402219437         Good  \n",
      "99975   310.8838062920152         Good  \n",
      "99989  307.65929119739087     Standard  \n",
      "\n",
      "[13294 rows x 28 columns]\n",
      "Number of different miss match values:  2\n",
      "Those occupations are  ['_______' 'Media_Manager']\n"
     ]
    }
   ],
   "source": [
    "pattern = r'^[A-Za-z\\s]+$'\n",
    "\n",
    "not_matching = df[~df['Occupation'].str.contains(pattern, regex=True, na=False)]\n",
    "print(not_matching)\n",
    "\n",
    "print(\"Number of different miss match values: \",not_matching[\"Occupation\"].nunique())\n",
    "\n",
    "print(\"Those occupations are \",not_matching[\"Occupation\"].unique())\n",
    "\n",
    "# There are 2 occupations which are not in format of '^[A-Za-z\\s]+$'. Those are \"Media_Manager\" and \"_______\""
   ]
  },
  {
   "cell_type": "code",
   "execution_count": 432,
   "metadata": {},
   "outputs": [],
   "source": [
    "df['Occupation'] = df['Occupation'].replace('Media_Manager', 'Media Manager').replace('_______', np.nan)\n",
    "\n",
    "# Replace Media_Manager with Media Manager and \"_______\" with nan"
   ]
  },
  {
   "cell_type": "code",
   "execution_count": 433,
   "metadata": {},
   "outputs": [
    {
     "name": "stdout",
     "output_type": "stream",
     "text": [
      "Series([], Name: Occupation, dtype: int64)\n"
     ]
    }
   ],
   "source": [
    "unique_occupation_per_id = df.groupby('Customer_ID')['Occupation'].nunique()\n",
    "\n",
    "ids_with_more_than_a_occupation = unique_occupation_per_id[unique_occupation_per_id != 1]\n",
    "print(ids_with_more_than_a_occupation)\n",
    "\n",
    "# For purticular customer id cannot have 2 or more occupations."
   ]
  },
  {
   "cell_type": "code",
   "execution_count": 434,
   "metadata": {},
   "outputs": [],
   "source": [
    "occupation_counts = df.groupby(['Customer_ID', 'Occupation']).size().reset_index(name='count')\n",
    "most_frequent_occupation = occupation_counts.loc[occupation_counts.groupby('Customer_ID')['count'].idxmax()]\n",
    "most_frequent_occupation = most_frequent_occupation.rename(columns={'Occupation': 'Most_Frequent_Occupation'})\n",
    "df = df.merge(most_frequent_occupation[['Customer_ID', 'Most_Frequent_Occupation']], on='Customer_ID', how='left')\n",
    "df['Occupation'] = df['Most_Frequent_Occupation']\n",
    "df.drop(columns=['Most_Frequent_Occupation'], inplace=True)\n",
    "\n",
    "# Replace nan and more than 1 of Occupation as highest frequency of Occupation for a customer."
   ]
  },
  {
   "cell_type": "code",
   "execution_count": 435,
   "metadata": {},
   "outputs": [],
   "source": [
    "df[\"Annual_Income\"].unique()\n",
    "\n",
    "def extract_numeric_income(income_str):\n",
    "    clean_income_str = ''.join(filter(lambda x: x.isdigit() or x == '.', income_str))\n",
    "    return float(clean_income_str) if clean_income_str else None\n",
    "\n",
    "df['Annual_Income'] = df['Annual_Income'].apply(extract_numeric_income)\n",
    "\n",
    "# Convert str Annual Income to float"
   ]
  },
  {
   "cell_type": "code",
   "execution_count": 436,
   "metadata": {},
   "outputs": [
    {
     "name": "stdout",
     "output_type": "stream",
     "text": [
      "Customer_ID\n",
      "CUS_0x1018    2\n",
      "CUS_0x1057    2\n",
      "CUS_0x107e    2\n",
      "CUS_0x108a    2\n",
      "CUS_0x10a9    2\n",
      "             ..\n",
      "CUS_0xe5b     2\n",
      "CUS_0xee1     2\n",
      "CUS_0xf20     2\n",
      "CUS_0xf55     2\n",
      "CUS_0xfa4     2\n",
      "Name: Annual_Income, Length: 965, dtype: int64\n"
     ]
    }
   ],
   "source": [
    "unique_annual_income_per_id = df.groupby('Customer_ID')['Annual_Income'].nunique()\n",
    "\n",
    "ids_with_more_than_a_annual_income = unique_annual_income_per_id[unique_annual_income_per_id != 1]\n",
    "print(ids_with_more_than_a_annual_income)\n",
    "\n",
    "# For purticular customer id cannot have 2 or more annual incomes."
   ]
  },
  {
   "cell_type": "code",
   "execution_count": 437,
   "metadata": {},
   "outputs": [],
   "source": [
    "annual_income_counts = df.groupby(['Customer_ID', 'Annual_Income']).size().reset_index(name='count')\n",
    "most_frequent_annual_income = annual_income_counts.loc[annual_income_counts.groupby('Customer_ID')['count'].idxmax()]\n",
    "most_frequent_annual_income = most_frequent_annual_income.rename(columns={'Annual_Income': 'Most_Frequent_Annual_Income'})\n",
    "df = df.merge(most_frequent_annual_income[['Customer_ID', 'Most_Frequent_Annual_Income']], on='Customer_ID', how='left')\n",
    "df['Annual_Income'] = df['Most_Frequent_Annual_Income']\n",
    "df.drop(columns=['Most_Frequent_Annual_Income'], inplace=True)\n",
    "\n",
    "# Replace more than 1 of Annual_Income as highest frequency of Annual_Income for a customer."
   ]
  },
  {
   "cell_type": "code",
   "execution_count": 438,
   "metadata": {},
   "outputs": [
    {
     "data": {
      "text/plain": [
       "15002"
      ]
     },
     "execution_count": 438,
     "metadata": {},
     "output_type": "execute_result"
    }
   ],
   "source": [
    "df[\"Monthly_Inhand_Salary\"].isna().sum()\n",
    "\n",
    "# These values not be same for each month. But there are some nan values. "
   ]
  },
  {
   "cell_type": "code",
   "execution_count": 439,
   "metadata": {},
   "outputs": [],
   "source": [
    "def fill_Monthly_Inhand_Salary(group):\n",
    "    group = group.ffill()\n",
    "    group = group.bfill()\n",
    "    return group\n",
    "\n",
    "\n",
    "Monthly_Inhand_Salary_fill = df.groupby('Customer_ID')[['ID','Monthly_Inhand_Salary']].apply(fill_Monthly_Inhand_Salary)\n",
    "Monthly_Inhand_Salary_fill = Monthly_Inhand_Salary_fill.rename(columns={'Monthly_Inhand_Salary': 'Monthly_Inhand_Salary_Fill'})\n",
    "df = df.merge(Monthly_Inhand_Salary_fill, on='ID', how='left')\n",
    "df['Monthly_Inhand_Salary'] = df['Monthly_Inhand_Salary_Fill'].round(2)\n",
    "df.drop(columns=['Monthly_Inhand_Salary_Fill'], inplace=True)\n",
    "\n",
    "# Nan values fill according to ffill and bfill methods group by customer id. Also round the values to 2 decimals"
   ]
  },
  {
   "cell_type": "code",
   "execution_count": 440,
   "metadata": {},
   "outputs": [
    {
     "data": {
      "text/plain": [
       "count    100000.000000\n",
       "mean         17.091280\n",
       "std         117.404834\n",
       "min          -1.000000\n",
       "25%           3.000000\n",
       "50%           6.000000\n",
       "75%           7.000000\n",
       "max        1798.000000\n",
       "Name: Num_Bank_Accounts, dtype: float64"
      ]
     },
     "execution_count": 440,
     "metadata": {},
     "output_type": "execute_result"
    }
   ],
   "source": [
    "df[\"Num_Bank_Accounts\"].describe()\n",
    "\n",
    "# customer cannot have -1 number of bank account\n",
    "# customer can have >= 0  number of bank account. but we observe that when number of bank account are > 11 and <0, those are data enty errors."
   ]
  },
  {
   "cell_type": "code",
   "execution_count": 441,
   "metadata": {},
   "outputs": [
    {
     "data": {
      "text/plain": [
       "count    98664.000000\n",
       "mean         5.368980\n",
       "std          2.592451\n",
       "min          0.000000\n",
       "25%          3.000000\n",
       "50%          5.000000\n",
       "75%          7.000000\n",
       "max         11.000000\n",
       "Name: Num_Bank_Accounts, dtype: float64"
      ]
     },
     "execution_count": 441,
     "metadata": {},
     "output_type": "execute_result"
    }
   ],
   "source": [
    "df[\"Num_Bank_Accounts\"] = df[\"Num_Bank_Accounts\"].apply(lambda x: np.nan if x>=12 or x<0 else x)\n",
    "df[\"Num_Bank_Accounts\"].describe()\n",
    "\n",
    "# Replace all value >=12 and <0 by nan and round to integer"
   ]
  },
  {
   "cell_type": "code",
   "execution_count": 442,
   "metadata": {},
   "outputs": [],
   "source": [
    "def fill_Num_Bank_Accounts(group):\n",
    "    group = group.ffill()\n",
    "    group = group.bfill()\n",
    "    return group\n",
    "\n",
    "\n",
    "Num_Bank_Accounts_fill = df.groupby('Customer_ID')[['ID','Num_Bank_Accounts']].apply(fill_Num_Bank_Accounts)\n",
    "Num_Bank_Accounts_fill = Num_Bank_Accounts_fill.rename(columns={'Num_Bank_Accounts': 'Num_Bank_Accounts_Fill'})\n",
    "df = df.merge(Num_Bank_Accounts_fill, on='ID', how='left')\n",
    "df['Num_Bank_Accounts'] = df['Num_Bank_Accounts_Fill']\n",
    "df.drop(columns=['Num_Bank_Accounts_Fill'], inplace=True)\n",
    "\n",
    "# Nan values fill according to ffill and bfill methods group by customer id\n",
    "\n",
    "df[\"Num_Bank_Accounts\"] = df[\"Num_Bank_Accounts\"].astype(int)\n",
    "\n",
    "#round to integer"
   ]
  },
  {
   "cell_type": "code",
   "execution_count": 443,
   "metadata": {},
   "outputs": [
    {
     "data": {
      "text/plain": [
       "count    100000.00000\n",
       "mean         22.47443\n",
       "std         129.05741\n",
       "min           0.00000\n",
       "25%           4.00000\n",
       "50%           5.00000\n",
       "75%           7.00000\n",
       "max        1499.00000\n",
       "Name: Num_Credit_Card, dtype: float64"
      ]
     },
     "execution_count": 443,
     "metadata": {},
     "output_type": "execute_result"
    }
   ],
   "source": [
    "df[\"Num_Credit_Card\"].describe()\n",
    "\n",
    "# customer can have >= 0 number of credic cards. but we observe that when number of credit cards are > 11 those are data enty errors."
   ]
  },
  {
   "cell_type": "code",
   "execution_count": 444,
   "metadata": {},
   "outputs": [
    {
     "data": {
      "text/plain": [
       "count    97729.000000\n",
       "mean         5.533322\n",
       "std          2.067703\n",
       "min          0.000000\n",
       "25%          4.000000\n",
       "50%          5.000000\n",
       "75%          7.000000\n",
       "max         11.000000\n",
       "Name: Num_Credit_Card, dtype: float64"
      ]
     },
     "execution_count": 444,
     "metadata": {},
     "output_type": "execute_result"
    }
   ],
   "source": [
    "df[\"Num_Credit_Card\"] = df[\"Num_Credit_Card\"].apply(lambda x: np.nan if x>=12 else x)\n",
    "df[\"Num_Credit_Card\"].describe()\n",
    "\n",
    "# Replace all value >=12 by nan"
   ]
  },
  {
   "cell_type": "code",
   "execution_count": 445,
   "metadata": {},
   "outputs": [],
   "source": [
    "def fill_Num_Credit_Card(group):\n",
    "    group = group.ffill()\n",
    "    group = group.bfill()\n",
    "    return group\n",
    "\n",
    "\n",
    "Num_Bank_Accounts_fill = df.groupby('Customer_ID')[['ID','Num_Credit_Card']].apply(fill_Num_Credit_Card)\n",
    "Num_Bank_Accounts_fill = Num_Bank_Accounts_fill.rename(columns={'Num_Credit_Card': 'Num_Credit_Card_Fill'})\n",
    "df = df.merge(Num_Bank_Accounts_fill, on='ID', how='left')\n",
    "df['Num_Credit_Card'] = df['Num_Credit_Card_Fill']\n",
    "df.drop(columns=['Num_Credit_Card_Fill'], inplace=True)\n",
    "\n",
    "# Nan values fill according to ffill and bfill methods group by customer id\n",
    "\n",
    "df[\"Num_Credit_Card\"] = df[\"Num_Credit_Card\"].astype(int)\n",
    "\n",
    "#round to integer"
   ]
  },
  {
   "cell_type": "code",
   "execution_count": 446,
   "metadata": {},
   "outputs": [
    {
     "data": {
      "text/plain": [
       "count    100000.000000\n",
       "mean         72.466040\n",
       "std         466.422621\n",
       "min           1.000000\n",
       "25%           8.000000\n",
       "50%          13.000000\n",
       "75%          20.000000\n",
       "max        5797.000000\n",
       "Name: Interest_Rate, dtype: float64"
      ]
     },
     "execution_count": 446,
     "metadata": {},
     "output_type": "execute_result"
    }
   ],
   "source": [
    "df[\"Interest_Rate\"].describe()\n",
    "\n",
    "# bank can give >= 0 present of interest rate. but we observe that when interest rate > 34 those are data enty errors."
   ]
  },
  {
   "cell_type": "code",
   "execution_count": 447,
   "metadata": {},
   "outputs": [
    {
     "data": {
      "text/plain": [
       "count    97966.000000\n",
       "mean        14.531603\n",
       "std          8.739748\n",
       "min          1.000000\n",
       "25%          7.000000\n",
       "50%         13.000000\n",
       "75%         20.000000\n",
       "max         34.000000\n",
       "Name: Interest_Rate, dtype: float64"
      ]
     },
     "execution_count": 447,
     "metadata": {},
     "output_type": "execute_result"
    }
   ],
   "source": [
    "df[\"Interest_Rate\"] = df[\"Interest_Rate\"].apply(lambda x: np.nan if x>=35 else x)\n",
    "df[\"Interest_Rate\"].describe()\n",
    "\n",
    "# Replace all value >=35 by nan"
   ]
  },
  {
   "cell_type": "code",
   "execution_count": 448,
   "metadata": {},
   "outputs": [],
   "source": [
    "def fill_Interest_Rate(group):\n",
    "    group = group.ffill()\n",
    "    group = group.bfill()\n",
    "    return group\n",
    "\n",
    "\n",
    "Interest_Rate_fill = df.groupby('Customer_ID')[['ID','Interest_Rate']].apply(fill_Interest_Rate)\n",
    "Interest_Rate_fill = Interest_Rate_fill.rename(columns={'Interest_Rate': 'Interest_Rate_Fill'})\n",
    "df = df.merge(Interest_Rate_fill, on='ID', how='left')\n",
    "df['Interest_Rate'] = df['Interest_Rate_Fill']\n",
    "df.drop(columns=['Interest_Rate_Fill'], inplace=True)\n",
    "\n",
    "# Nan values fill according to ffill and bfill methods group by customer id\n",
    "\n",
    "df[\"Interest_Rate\"] = df[\"Interest_Rate\"].astype(int)\n",
    "\n",
    "#round to integer"
   ]
  },
  {
   "cell_type": "code",
   "execution_count": 449,
   "metadata": {},
   "outputs": [],
   "source": [
    "df[\"Num_of_Loan\"].unique()\n",
    "\n",
    "def extract_numeric_age(age_str):\n",
    "    digits = ''.join(filter(str.isdigit, age_str))\n",
    "    return int(digits) if digits else None\n",
    "\n",
    "df['Num_of_Loan'] = df['Num_of_Loan'].apply(extract_numeric_age)\n",
    "\n",
    "# Num_of_Loan are convert to int"
   ]
  },
  {
   "cell_type": "code",
   "execution_count": 450,
   "metadata": {},
   "outputs": [
    {
     "data": {
      "text/plain": [
       "count    100000.000000\n",
       "mean         10.761960\n",
       "std          61.789933\n",
       "min           0.000000\n",
       "25%           2.000000\n",
       "50%           3.000000\n",
       "75%           6.000000\n",
       "max        1496.000000\n",
       "Name: Num_of_Loan, dtype: float64"
      ]
     },
     "execution_count": 450,
     "metadata": {},
     "output_type": "execute_result"
    }
   ],
   "source": [
    "df[\"Num_of_Loan\"].describe()\n",
    "\n",
    "# customer can have >= 0 number of loans. but we observe that when number of loans are > 9 those are data enty errors."
   ]
  },
  {
   "cell_type": "code",
   "execution_count": 451,
   "metadata": {},
   "outputs": [
    {
     "data": {
      "text/plain": [
       "count    95652.000000\n",
       "mean         3.533758\n",
       "std          2.447308\n",
       "min          0.000000\n",
       "25%          2.000000\n",
       "50%          3.000000\n",
       "75%          5.000000\n",
       "max          9.000000\n",
       "Name: Num_of_Loan, dtype: float64"
      ]
     },
     "execution_count": 451,
     "metadata": {},
     "output_type": "execute_result"
    }
   ],
   "source": [
    "df[\"Num_of_Loan\"] = df[\"Num_of_Loan\"].apply(lambda x: np.nan if x>=10 else x)\n",
    "df[\"Num_of_Loan\"].describe()\n",
    "\n",
    "# Replace all value >=10 by nan"
   ]
  },
  {
   "cell_type": "code",
   "execution_count": 452,
   "metadata": {},
   "outputs": [],
   "source": [
    "def fill_Num_of_Loan(group):\n",
    "    group = group.ffill()\n",
    "    group = group.bfill()\n",
    "    return group\n",
    "\n",
    "\n",
    "Num_of_Loan_fill = df.groupby('Customer_ID')[['ID','Num_of_Loan']].apply(fill_Num_of_Loan)\n",
    "Num_of_Loan_fill = Num_of_Loan_fill.rename(columns={'Num_of_Loan': 'Num_of_Loan_Fill'})\n",
    "df = df.merge(Num_of_Loan_fill, on='ID', how='left')\n",
    "df['Num_of_Loan'] = df['Num_of_Loan_Fill']\n",
    "df.drop(columns=['Num_of_Loan_Fill'], inplace=True)\n",
    "\n",
    "# Nan values fill according to ffill and bfill methods group by customer id\n",
    "\n",
    "df[\"Num_of_Loan\"] = df[\"Num_of_Loan\"].astype(int)\n",
    "\n",
    "#round to integer"
   ]
  },
  {
   "cell_type": "code",
   "execution_count": 453,
   "metadata": {},
   "outputs": [
    {
     "data": {
      "text/plain": [
       "count    100000.000000\n",
       "mean         21.068780\n",
       "std          14.860104\n",
       "min          -5.000000\n",
       "25%          10.000000\n",
       "50%          18.000000\n",
       "75%          28.000000\n",
       "max          67.000000\n",
       "Name: Delay_from_due_date, dtype: float64"
      ]
     },
     "execution_count": 453,
     "metadata": {},
     "output_type": "execute_result"
    }
   ],
   "source": [
    "df[\"Delay_from_due_date\"].describe()\n",
    "\n",
    "# Delay from due date are in fessible region. but we can get final decission whether we need to consider early payments(negative numbers)\n",
    "# or just give 0 for those numbers."
   ]
  },
  {
   "cell_type": "code",
   "execution_count": 454,
   "metadata": {},
   "outputs": [],
   "source": [
    "def extract_delayed_payment(delayed_str):\n",
    "    if isinstance(delayed_str, str):\n",
    "        clean_delayed_str = ''.join(filter(lambda x: x.isdigit() or x == '.' or x == '-', delayed_str))\n",
    "        value = float(clean_delayed_str) if clean_delayed_str else None\n",
    "    elif isinstance(delayed_str, (int, float)):\n",
    "        value = float(delayed_str)\n",
    "    else:\n",
    "        return None\n",
    "    \n",
    "    return value if value is not None and value >= 0 else np.nan\n",
    "\n",
    "df['Num_of_Delayed_Payment'] = df['Num_of_Delayed_Payment'].apply(extract_delayed_payment)\n",
    "\n",
    "# Convert str to float. neg value is problem is there!\n"
   ]
  },
  {
   "cell_type": "code",
   "execution_count": 455,
   "metadata": {},
   "outputs": [
    {
     "data": {
      "text/plain": [
       "count    92354.000000\n",
       "mean        31.150519\n",
       "std        226.802173\n",
       "min          0.000000\n",
       "25%          9.000000\n",
       "50%         14.000000\n",
       "75%         18.000000\n",
       "max       4397.000000\n",
       "Name: Num_of_Delayed_Payment, dtype: float64"
      ]
     },
     "execution_count": 455,
     "metadata": {},
     "output_type": "execute_result"
    }
   ],
   "source": [
    "df[\"Num_of_Delayed_Payment\"].describe()\n",
    "\n",
    "# Observed that when Num_of_Delayed_Payment > 28 it is a data entry errors."
   ]
  },
  {
   "cell_type": "code",
   "execution_count": 456,
   "metadata": {},
   "outputs": [
    {
     "data": {
      "text/plain": [
       "count    91618.000000\n",
       "mean        13.419634\n",
       "std          6.207354\n",
       "min          0.000000\n",
       "25%          9.000000\n",
       "50%         14.000000\n",
       "75%         18.000000\n",
       "max         28.000000\n",
       "Name: Num_of_Delayed_Payment, dtype: float64"
      ]
     },
     "execution_count": 456,
     "metadata": {},
     "output_type": "execute_result"
    }
   ],
   "source": [
    "df[\"Num_of_Delayed_Payment\"] = df[\"Num_of_Delayed_Payment\"].apply(lambda x: np.nan if x>=29 else x)\n",
    "df[\"Num_of_Delayed_Payment\"].describe()\n",
    "\n",
    "# Replace all value >=29 by nan"
   ]
  },
  {
   "cell_type": "code",
   "execution_count": 457,
   "metadata": {},
   "outputs": [],
   "source": [
    "def fill_Num_of_Delayed_Payment(group):\n",
    "    group = group.ffill()\n",
    "    group = group.bfill()\n",
    "    return group\n",
    "\n",
    "\n",
    "Num_of_Delayed_Payment_fill = df.groupby('Customer_ID')[['ID','Num_of_Delayed_Payment']].apply(fill_Num_of_Delayed_Payment)\n",
    "Num_of_Delayed_Payment_fill = Num_of_Delayed_Payment_fill.rename(columns={'Num_of_Delayed_Payment': 'Num_of_Delayed_Payment_Fill'})\n",
    "df = df.merge(Num_of_Delayed_Payment_fill, on='ID', how='left')\n",
    "df['Num_of_Delayed_Payment'] = df['Num_of_Delayed_Payment_Fill']\n",
    "df.drop(columns=['Num_of_Delayed_Payment_Fill'], inplace=True)\n",
    "\n",
    "# Nan values fill according to ffill and bfill methods group by customer id\n",
    "\n",
    "df[\"Num_of_Delayed_Payment\"] = df[\"Num_of_Delayed_Payment\"].astype(int)\n",
    "\n",
    "#round to integer"
   ]
  },
  {
   "cell_type": "code",
   "execution_count": 458,
   "metadata": {},
   "outputs": [],
   "source": [
    "def extract_Changed_Credit_Limit(income_str):\n",
    "    clean_income_str = ''.join(filter(lambda x: x.isdigit() or x == '.', income_str))\n",
    "    return float(clean_income_str) if clean_income_str else None\n",
    "\n",
    "df['Changed_Credit_Limit'] = df['Changed_Credit_Limit'].apply(extract_Changed_Credit_Limit)\n",
    "\n",
    "# Convert str to float."
   ]
  },
  {
   "cell_type": "code",
   "execution_count": 459,
   "metadata": {},
   "outputs": [],
   "source": [
    "def fill_Changed_Credit_Limit(group):\n",
    "    group = group.ffill()\n",
    "    group = group.bfill()\n",
    "    return group\n",
    "\n",
    "\n",
    "Changed_Credit_Limit_fill = df.groupby('Customer_ID')[['ID','Changed_Credit_Limit']].apply(fill_Changed_Credit_Limit)\n",
    "Changed_Credit_Limit_fill = Changed_Credit_Limit_fill.rename(columns={'Changed_Credit_Limit': 'Changed_Credit_Limit_Fill'})\n",
    "df = df.merge(Changed_Credit_Limit_fill, on='ID', how='left')\n",
    "df['Changed_Credit_Limit'] = df['Changed_Credit_Limit_Fill']\n",
    "df.drop(columns=['Changed_Credit_Limit_Fill'], inplace=True)\n",
    "\n",
    "# Nan values fill according to ffill and bfill methods group by customer id\n",
    "\n",
    "df[\"Changed_Credit_Limit\"] = df[\"Changed_Credit_Limit\"].round(2)\n",
    "\n",
    "#round to 2 decimels"
   ]
  },
  {
   "cell_type": "code",
   "execution_count": 460,
   "metadata": {},
   "outputs": [
    {
     "data": {
      "text/plain": [
       "count    100000.00000\n",
       "mean         10.46553\n",
       "std           6.67169\n",
       "min           0.00000\n",
       "25%           5.35000\n",
       "50%           9.40000\n",
       "75%          14.86000\n",
       "max          36.97000\n",
       "Name: Changed_Credit_Limit, dtype: float64"
      ]
     },
     "execution_count": 460,
     "metadata": {},
     "output_type": "execute_result"
    }
   ],
   "source": [
    "df[\"Changed_Credit_Limit\"].describe()\n",
    "\n",
    "# Values look fesible."
   ]
  },
  {
   "cell_type": "code",
   "execution_count": 461,
   "metadata": {},
   "outputs": [
    {
     "data": {
      "text/plain": [
       "count    98035.000000\n",
       "mean        27.754251\n",
       "std        193.177339\n",
       "min          0.000000\n",
       "25%          3.000000\n",
       "50%          6.000000\n",
       "75%          9.000000\n",
       "max       2597.000000\n",
       "Name: Num_Credit_Inquiries, dtype: float64"
      ]
     },
     "execution_count": 461,
     "metadata": {},
     "output_type": "execute_result"
    }
   ],
   "source": [
    "df[\"Num_Credit_Inquiries\"].describe()\n",
    "\n",
    "# Observed that when Num_Credit_Inquiries > 17 it is a data entry errors."
   ]
  },
  {
   "cell_type": "code",
   "execution_count": 462,
   "metadata": {},
   "outputs": [
    {
     "data": {
      "text/plain": [
       "count    96385.000000\n",
       "mean         5.781117\n",
       "std          3.860712\n",
       "min          0.000000\n",
       "25%          3.000000\n",
       "50%          5.000000\n",
       "75%          8.000000\n",
       "max         17.000000\n",
       "Name: Num_Credit_Inquiries, dtype: float64"
      ]
     },
     "execution_count": 462,
     "metadata": {},
     "output_type": "execute_result"
    }
   ],
   "source": [
    "df[\"Num_Credit_Inquiries\"] = df[\"Num_Credit_Inquiries\"].apply(lambda x: np.nan if x>=18 else x)\n",
    "df[\"Num_Credit_Inquiries\"].describe()\n",
    "\n",
    "# Replace all value >=18 by nan"
   ]
  },
  {
   "cell_type": "code",
   "execution_count": 463,
   "metadata": {},
   "outputs": [],
   "source": [
    "def fill_Num_Credit_Inquiries(group):\n",
    "    group = group.ffill()\n",
    "    group = group.bfill()\n",
    "    return group\n",
    "\n",
    "\n",
    "Num_Credit_Inquiries_fill = df.groupby('Customer_ID')[['ID','Num_Credit_Inquiries']].apply(fill_Num_Credit_Inquiries)\n",
    "Num_Credit_Inquiries_fill = Num_Credit_Inquiries_fill.rename(columns={'Num_Credit_Inquiries': 'Num_Credit_Inquiries_Fill'})\n",
    "df = df.merge(Num_Credit_Inquiries_fill, on='ID', how='left')\n",
    "df['Num_Credit_Inquiries'] = df['Num_Credit_Inquiries_Fill']\n",
    "df.drop(columns=['Num_Credit_Inquiries_Fill'], inplace=True)\n",
    "\n",
    "# Nan values fill according to ffill and bfill methods group by customer id\n",
    "\n",
    "df[\"Num_Credit_Inquiries\"] = df[\"Num_Credit_Inquiries\"].astype(int)\n",
    "\n",
    "#round to integer"
   ]
  },
  {
   "cell_type": "code",
   "execution_count": 464,
   "metadata": {},
   "outputs": [
    {
     "name": "stdout",
     "output_type": "stream",
     "text": [
      "Series([], Name: Credit_Mix, dtype: int64)\n"
     ]
    }
   ],
   "source": [
    "unique_annual_income_per_id = df.groupby('Customer_ID')['Credit_Mix'].nunique()\n",
    "\n",
    "ids_with_more_than_a_annual_income = unique_annual_income_per_id[unique_annual_income_per_id >= 3]\n",
    "print(ids_with_more_than_a_annual_income)\n",
    "\n",
    "# For purticular customer id not have 3 or more Credit_Mix. that means only have nan of one specific group out of 3 group"
   ]
  },
  {
   "cell_type": "code",
   "execution_count": 465,
   "metadata": {},
   "outputs": [
    {
     "data": {
      "text/plain": [
       "count        79805\n",
       "unique           3\n",
       "top       Standard\n",
       "freq         36479\n",
       "Name: Credit_Mix, dtype: object"
      ]
     },
     "execution_count": 465,
     "metadata": {},
     "output_type": "execute_result"
    }
   ],
   "source": [
    "df[\"Credit_Mix\"] = df[\"Credit_Mix\"].apply(lambda x: np.nan if x == '_' else x)\n",
    "\n",
    "df[\"Credit_Mix\"].describe()\n",
    "\n",
    "# Replace all value '_' by nan"
   ]
  },
  {
   "cell_type": "code",
   "execution_count": 466,
   "metadata": {},
   "outputs": [],
   "source": [
    "def fill_Num_Credit_Inquiries(group):\n",
    "    group = group.ffill()\n",
    "    group = group.bfill()\n",
    "    return group\n",
    "\n",
    "\n",
    "Num_Credit_Inquiries_fill = df.groupby('Customer_ID')[['ID','Credit_Mix']].apply(fill_Num_Credit_Inquiries)\n",
    "Num_Credit_Inquiries_fill = Num_Credit_Inquiries_fill.rename(columns={'Credit_Mix': 'Credit_Mix_Fill'})\n",
    "df = df.merge(Num_Credit_Inquiries_fill, on='ID', how='left')\n",
    "df['Credit_Mix'] = df['Credit_Mix_Fill']\n",
    "df.drop(columns=['Credit_Mix_Fill'], inplace=True)\n",
    "\n",
    "# Nan values fill according to ffill and bfill methods group by customer id\n",
    "\n",
    "\n",
    "#round to integer\n",
    "\n",
    "## Not change variable names accordingly!!!"
   ]
  },
  {
   "cell_type": "code",
   "execution_count": 467,
   "metadata": {},
   "outputs": [],
   "source": [
    "def extract_Changed_Credit_Limit(income_str):\n",
    "    clean_income_str = ''.join(filter(lambda x: x.isdigit() or x == '.', income_str))\n",
    "    return float(clean_income_str) if clean_income_str else None\n",
    "\n",
    "df['Outstanding_Debt'] = df['Outstanding_Debt'].apply(extract_Changed_Credit_Limit)\n",
    "\n",
    "# Convert str to float.\n",
    "# Not change variable names accordingly"
   ]
  },
  {
   "cell_type": "code",
   "execution_count": 468,
   "metadata": {},
   "outputs": [
    {
     "name": "stdout",
     "output_type": "stream",
     "text": [
      "Series([], Name: Outstanding_Debt, dtype: int64)\n"
     ]
    }
   ],
   "source": [
    "unique_annual_income_per_id = df.groupby('Customer_ID')['Outstanding_Debt'].nunique()\n",
    "\n",
    "ids_with_more_than_a_annual_income = unique_annual_income_per_id[unique_annual_income_per_id != 1]\n",
    "print(ids_with_more_than_a_annual_income)\n",
    "\n",
    "# There are no different Outstanding_Debt for a purticular customer  "
   ]
  },
  {
   "cell_type": "code",
   "execution_count": 469,
   "metadata": {},
   "outputs": [],
   "source": [
    "df[\"Credit_Utilization_Ratio\"].describe()\n",
    "\n",
    "df[\"Credit_Utilization_Ratio\"] = df[\"Credit_Utilization_Ratio\"].round(4)\n",
    "\n",
    "# Round to 4 decimals"
   ]
  },
  {
   "cell_type": "code",
   "execution_count": 470,
   "metadata": {},
   "outputs": [],
   "source": [
    "## Credit_History_Age makes no sense ??? !!!!"
   ]
  },
  {
   "cell_type": "code",
   "execution_count": 471,
   "metadata": {},
   "outputs": [
    {
     "data": {
      "text/plain": [
       "count     100000\n",
       "unique         2\n",
       "top          Yes\n",
       "freq       52326\n",
       "Name: Payment_of_Min_Amount, dtype: object"
      ]
     },
     "execution_count": 471,
     "metadata": {},
     "output_type": "execute_result"
    }
   ],
   "source": [
    "df[\"Payment_of_Min_Amount\"] = df[\"Payment_of_Min_Amount\"].apply(lambda x: 'No' if x == 'NM' else x)\n",
    "\n",
    "df[\"Payment_of_Min_Amount\"].describe()\n",
    "\n",
    "# Replace all value NM (Not met) by No"
   ]
  },
  {
   "cell_type": "code",
   "execution_count": 472,
   "metadata": {},
   "outputs": [
    {
     "name": "stdout",
     "output_type": "stream",
     "text": [
      "Customer_ID\n",
      "CUS_0x1013    2\n",
      "CUS_0x103e    2\n",
      "CUS_0x105b    3\n",
      "CUS_0x1069    2\n",
      "CUS_0x106f    3\n",
      "             ..\n",
      "CUS_0xf74     2\n",
      "CUS_0xf8d     2\n",
      "CUS_0xfac     2\n",
      "CUS_0xfb8     2\n",
      "CUS_0xfdf     2\n",
      "Name: Total_EMI_per_month, Length: 3426, dtype: int64\n"
     ]
    }
   ],
   "source": [
    "unique_annual_income_per_id = df.groupby('Customer_ID')['Total_EMI_per_month'].nunique()\n",
    "\n",
    "ids_with_more_than_a_annual_income = unique_annual_income_per_id[unique_annual_income_per_id != 1]\n",
    "print(ids_with_more_than_a_annual_income)\n",
    "\n",
    "# For purticular customer id cannot have 2 or more annual incomes. some cases there are 0. this cant be possible.\n",
    "# some cases there are values very high. possible data entry errors."
   ]
  },
  {
   "cell_type": "code",
   "execution_count": 473,
   "metadata": {},
   "outputs": [
    {
     "data": {
      "text/plain": [
       "count    86275.000000\n",
       "mean       120.982366\n",
       "std        135.002501\n",
       "min          4.462837\n",
       "25%         40.703207\n",
       "50%         76.856489\n",
       "75%        163.213141\n",
       "max       1977.000000\n",
       "Name: Total_EMI_per_month, dtype: float64"
      ]
     },
     "execution_count": 473,
     "metadata": {},
     "output_type": "execute_result"
    }
   ],
   "source": [
    "df[\"Total_EMI_per_month\"] = df[\"Total_EMI_per_month\"].apply(lambda x: np.nan if x>=2000 or x==0 else x)\n",
    "df[\"Total_EMI_per_month\"].describe()\n",
    "\n",
    "# Replace all value >=2000 by nan because its seems like data entry errors"
   ]
  },
  {
   "cell_type": "code",
   "execution_count": 484,
   "metadata": {},
   "outputs": [],
   "source": [
    "def fill_Num_Credit_Inquiries(group):\n",
    "    group = group.ffill()\n",
    "    group = group.bfill()\n",
    "    return group\n",
    "\n",
    "\n",
    "Num_Credit_Inquiries_fill = df.groupby('Customer_ID')[['ID','Total_EMI_per_month']].apply(fill_Num_Credit_Inquiries)\n",
    "Num_Credit_Inquiries_fill = Num_Credit_Inquiries_fill.rename(columns={'Total_EMI_per_month': 'Total_EMI_per_month_Fill'})\n",
    "df = df.merge(Num_Credit_Inquiries_fill, on='ID', how='left')\n",
    "df['Total_EMI_per_month'] = df['Total_EMI_per_month_Fill']\n",
    "df.drop(columns=['Total_EMI_per_month_Fill'], inplace=True)\n",
    "\n",
    "# Nan values fill according to ffill and bfill methods group by customer id\n",
    "\n",
    "df['Total_EMI_per_month'] = df['Total_EMI_per_month'].round(2)\n",
    "\n",
    "\n",
    "## Not change variable names accordingly!!!"
   ]
  },
  {
   "cell_type": "code",
   "execution_count": 492,
   "metadata": {},
   "outputs": [],
   "source": [
    "def extract_Changed_Credit_Limit(income_str):\n",
    "    if isinstance(income_str, str):\n",
    "        clean_income_str = ''.join(filter(lambda x: x.isdigit() or x == '.', income_str))\n",
    "        return float(clean_income_str) if clean_income_str else None\n",
    "    elif isinstance(income_str, (int, float)):\n",
    "        return float(income_str)\n",
    "    else:\n",
    "        return None\n",
    "\n",
    "df['Amount_invested_monthly'] = df['Amount_invested_monthly'].apply(extract_Changed_Credit_Limit)\n",
    "\n",
    "# Convert str to float."
   ]
  },
  {
   "cell_type": "code",
   "execution_count": 498,
   "metadata": {},
   "outputs": [
    {
     "data": {
      "text/plain": [
       "count    91216.000000\n",
       "mean       195.539456\n",
       "std        199.564527\n",
       "min          0.000000\n",
       "25%         72.236692\n",
       "50%        128.954538\n",
       "75%        236.815814\n",
       "max       1977.326102\n",
       "Name: Amount_invested_monthly, dtype: float64"
      ]
     },
     "execution_count": 498,
     "metadata": {},
     "output_type": "execute_result"
    }
   ],
   "source": [
    "df[\"Amount_invested_monthly\"] = df[\"Amount_invested_monthly\"].apply(lambda x: np.nan if x==10000 else x)\n",
    "df[\"Amount_invested_monthly\"].describe()\n",
    "\n",
    "# Replace value 10000 by nan because its seems like data entry errors\n",
    "# Still there are missing values. it can handle in eda."
   ]
  },
  {
   "cell_type": "code",
   "execution_count": 507,
   "metadata": {},
   "outputs": [],
   "source": [
    "df[\"Amount_invested_monthly\"] = df[\"Amount_invested_monthly\"].apply(lambda x: round(x,2) if x!=np.nan else x)"
   ]
  },
  {
   "cell_type": "code",
   "execution_count": 503,
   "metadata": {},
   "outputs": [
    {
     "data": {
      "text/plain": [
       "array(['High_spent_Small_value_payments',\n",
       "       'Low_spent_Large_value_payments',\n",
       "       'Low_spent_Medium_value_payments',\n",
       "       'Low_spent_Small_value_payments',\n",
       "       'High_spent_Medium_value_payments', '!@9#%8',\n",
       "       'High_spent_Large_value_payments'], dtype=object)"
      ]
     },
     "execution_count": 503,
     "metadata": {},
     "output_type": "execute_result"
    }
   ],
   "source": [
    "df[\"Payment_Behaviour\"].unique()\n",
    "\n",
    "## There are 6 unique categories.  spent -> High,Low and value -> Small, Medium, Large \n",
    "## also have '!@9#%8' as a category"
   ]
  },
  {
   "cell_type": "code",
   "execution_count": 505,
   "metadata": {},
   "outputs": [
    {
     "data": {
      "text/plain": [
       "count                              92400\n",
       "unique                                 6\n",
       "top       Low_spent_Small_value_payments\n",
       "freq                               25513\n",
       "Name: Payment_Behaviour, dtype: object"
      ]
     },
     "execution_count": 505,
     "metadata": {},
     "output_type": "execute_result"
    }
   ],
   "source": [
    "df[\"Payment_Behaviour\"] = df[\"Payment_Behaviour\"].apply(lambda x: np.nan if x=='!@9#%8' else x)\n",
    "df[\"Payment_Behaviour\"].describe()\n",
    "\n",
    "# Replace '!@9#%8' by nan\n",
    "# Still have missing values. which can handle in eda"
   ]
  },
  {
   "cell_type": "code",
   "execution_count": 509,
   "metadata": {},
   "outputs": [],
   "source": [
    "def extract_Changed_Credit_Limit(income_str):\n",
    "    if isinstance(income_str, str):\n",
    "        clean_income_str = ''.join(filter(lambda x: x.isdigit() or x == '.', income_str))\n",
    "        return float(clean_income_str) if clean_income_str else None\n",
    "    elif isinstance(income_str, (int, float)):\n",
    "        return float(income_str)\n",
    "    else:\n",
    "        return None\n",
    "\n",
    "df['Monthly_Balance'] = df['Monthly_Balance'].apply(extract_Changed_Credit_Limit)\n",
    "\n",
    "# Convert str to float.\n",
    "# Not change variables accordingly"
   ]
  },
  {
   "cell_type": "code",
   "execution_count": 522,
   "metadata": {},
   "outputs": [
    {
     "data": {
      "text/plain": [
       "count    98791.000000\n",
       "mean       402.551258\n",
       "std        213.925499\n",
       "min          0.007760\n",
       "25%        270.106630\n",
       "50%        336.731225\n",
       "75%        470.262938\n",
       "max       1602.040519\n",
       "Name: Monthly_Balance, dtype: float64"
      ]
     },
     "execution_count": 522,
     "metadata": {},
     "output_type": "execute_result"
    }
   ],
   "source": [
    "df[\"Monthly_Balance\"] = df[\"Monthly_Balance\"].apply(lambda x: np.nan if x>3000 else x)\n",
    "df[\"Monthly_Balance\"].describe()\n",
    "\n",
    "# Replace value 3.333333e+26 by nan because its seems like data entry errors\n",
    "# Still there are missing values. it can handle in eda."
   ]
  },
  {
   "cell_type": "code",
   "execution_count": 524,
   "metadata": {},
   "outputs": [],
   "source": [
    "df[\"Monthly_Balance\"] = df[\"Monthly_Balance\"].apply(lambda x: round(x,2) if x!=np.nan else x)"
   ]
  },
  {
   "cell_type": "code",
   "execution_count": null,
   "metadata": {},
   "outputs": [],
   "source": [
    "## Nothing to change in Credit_Score             "
   ]
  },
  {
   "cell_type": "code",
   "execution_count": null,
   "metadata": {},
   "outputs": [],
   "source": []
  },
  {
   "cell_type": "markdown",
   "metadata": {},
   "source": [
    "### End of the cleaning"
   ]
  }
 ],
 "metadata": {
  "kernelspec": {
   "display_name": "venv_credit_scores",
   "language": "python",
   "name": "python3"
  },
  "language_info": {
   "codemirror_mode": {
    "name": "ipython",
    "version": 3
   },
   "file_extension": ".py",
   "mimetype": "text/x-python",
   "name": "python",
   "nbconvert_exporter": "python",
   "pygments_lexer": "ipython3",
   "version": "3.12.3"
  }
 },
 "nbformat": 4,
 "nbformat_minor": 2
}
